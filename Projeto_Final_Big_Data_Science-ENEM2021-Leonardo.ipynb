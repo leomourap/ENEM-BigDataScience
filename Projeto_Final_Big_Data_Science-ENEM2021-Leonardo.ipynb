{
 "cells": [
  {
   "cell_type": "markdown",
   "id": "a488c605",
   "metadata": {},
   "source": [
    "# Projeto Final Big Data Science - Microdados ENEM 2021\n",
    "\n",
    "### Como tarefa do time, vocês recebem a incumbência de fazer uma análise dos dados coletas no ENEM 2021. Como colher de chá, já que encontrar e vasculhar a fonte dos dados é seu trabalho, seu supervisor te envia o link de onde encontrar os dados:\n",
    "\n",
    "### https://www.gov.br/inep/pt-br/acesso-a-informacao/dados-abertos/microdados/enem\n",
    " \n",
    "### Ele então combina com o time de entregar os relatórios depois, como um jupyter notebook, com título, introdução e contextualização histórica e político-social se necessário (com referências), introdução ao tema abordado, desenvolvimento de seus pontos com a ajuda da exploração dos dados, métodos estatísticos etc., hipóteses levantadas e possíveis direções para o órgão público que será dirigido. Ele diz também para se sentir livre para usar qualquer método estatístico ou de machine learning que você conhece, trazer previsões, gráficos, dentre outros métodos para suportar sua argumentação.\n"
   ]
  },
  {
   "cell_type": "markdown",
   "id": "d537541a",
   "metadata": {},
   "source": [
    "#### ------------------------------------------------------------------------------------------------------------------------------------------------------------------------------------------------------------------------"
   ]
  },
  {
   "cell_type": "markdown",
   "id": "c1d51462",
   "metadata": {},
   "source": [
    "### Introdução:\n",
    "\n",
    "\"\"\"O Exame Nacional do Ensino Médio (Enem) foi instituído em 1998, com o objetivo de avaliar o desempenho escolar dos estudantes ao término da educação básica. Em 2009, o exame aperfeiçoou sua metodologia e passou a ser utilizado como mecanismo de acesso à educação superior. Desde 2020, o participante pode escolher entre fazer o exame impresso ou o Enem Digital, com provas aplicadas em computadores, em locais de prova definidos pelo Inep.\n",
    "\n",
    "As notas do Enem podem ser usadas para acesso ao Sistema de Seleção Unificada (Sisu) e ao Programa Universidade para Todos (ProUni). Elas também são aceitas em mais de 50 instituições de educação superior portuguesas. Além disso, os participantes do Enem podem pleitear financiamento estudantil em programas do governo, como o Fundo de Financiamento Estudantil (Fies). Os resultados do Enem possibilitam, ainda, o desenvolvimento de estudos e indicadores educacionais.\n",
    "\n",
    "Qualquer pessoa que já concluiu o ensino médio ou está concluindo a etapa pode fazer o Enem para acesso à educação superior. Os participantes que ainda não concluíram o ensino médio podem participar como “treineiros” e seus resultados no exame servem somente para autoavaliação de conhecimentos.\n",
    "\n",
    "A aplicação do Enem ocorre em dois dias. A Política de Acessibilidade e Inclusão do Inep garante atendimento especializado e tratamento pelo nome social, além de diversos recursos de acessibilidade. Há também uma aplicação para pessoas privadas de liberdade.\n",
    "\n",
    "Os participantes fazem provas de quatro áreas de conhecimento: linguagens, códigos e suas tecnologias; ciências humanas e suas tecnologias; ciências da natureza e suas tecnologias; e matemática e suas tecnologias, que ao todo somam 180 questões objetivas. Os participantes também são avaliados por meio de uma redação, que exige o desenvolvimento de um texto dissertativo-argumentativo a partir de uma situação-problema.\"\"\"\n",
    "\n",
    "#### Retirado de: https://www.gov.br/inep/pt-br/areas-de-atuacao/avaliacao-e-exames-educacionais/enem \n"
   ]
  },
  {
   "cell_type": "markdown",
   "id": "6cd02985",
   "metadata": {},
   "source": [
    "#### ------------------------------------------------------------------------------------------------------------------------------------------------------------------------------------------------------------------------\n",
    "\n",
    "#### Bom, meu primeiro pensamento ao ler as instruções é \"Será que a pandemia impactou no número de candidatos que realizaram as provas do ENEM? E será que o efeito da pandemia no ensino causou uma diminuição da nota dos alunos?\n",
    "\n",
    "#### Então minha ideia é realizar um entendimento dos dados disponíveis e comparar os dados de 2019 (pré pandemia) com os dados de 2020 e 2021 (que correspondem ao primeiro ano e à porção do meio / \"final\" da pandemia no Brasil, respectivamente) para responder a hipótese de que a Pandemia sim, teve efeito sobre o número de inscritos na prova do ENEM (e sobre o número de pessoas que realizaram todas as 4 provas). E também, sim, a pandemia teve como consequência a diminuição das notas dos alunos que realizaram a prova do ENEM."
   ]
  },
  {
   "cell_type": "code",
   "execution_count": 2,
   "id": "68c11cad",
   "metadata": {},
   "outputs": [],
   "source": [
    "import pandas as pd #importing libraries\n",
    "import numpy as np\n",
    "import matplotlib.pyplot as plt\n",
    "import datetime as dt\n",
    "import plotly.graph_objects as go"
   ]
  },
  {
   "cell_type": "markdown",
   "id": "b4e56e42",
   "metadata": {},
   "source": [
    "VOU FAZER TUDO COM 2019, VERIFICAR OS DADOS E ETC (PRIMEIRO SÓ FAZER O BASICAO, ARRUMAR O QUE TIVER QUE ARRUMAR, DADOS NULOS...), E DEPOIS COMPARAR, FAZENDO ALGUMAS DESSAS ANALISES COM 2020 E 2021 (LEMBRAR DE TAMBÉM TRATAR ESSES DATASETS!). E ENTÃO CONCLUIR MINHAS HIPÓTESES  IDEIAS INICIAIS, E  TALVEEEEEEEZ, PESQUISAR ALGUM ARTIGO QUE REFORCE MEUS ACHADOS."
   ]
  },
  {
   "cell_type": "code",
   "execution_count": null,
   "id": "bd37dcc2",
   "metadata": {},
   "outputs": [],
   "source": []
  },
  {
   "cell_type": "markdown",
   "id": "0c380480",
   "metadata": {},
   "source": [
    "Let's take a look on the data\n",
    "Here we can check all the columns/\"variables\" that are avaiable for the exploration, and start to see a putative path to follow.\n",
    "\n",
    "- We can observe that the dataframe has 9800 rows and 18 columns."
   ]
  },
  {
   "cell_type": "code",
   "execution_count": 3,
   "id": "c98079f2",
   "metadata": {},
   "outputs": [],
   "source": [
    "df = pd.read_csv(r\"D:\\\\microdados_enem_2021\\DADOS\\MICRODADOS_ENEM_2021.csv\", encoding='latin-1', sep=';') #read and overview of database"
   ]
  },
  {
   "cell_type": "code",
   "execution_count": 6,
   "id": "60d1cf41",
   "metadata": {},
   "outputs": [
    {
     "data": {
      "text/html": [
       "<div>\n",
       "<style scoped>\n",
       "    .dataframe tbody tr th:only-of-type {\n",
       "        vertical-align: middle;\n",
       "    }\n",
       "\n",
       "    .dataframe tbody tr th {\n",
       "        vertical-align: top;\n",
       "    }\n",
       "\n",
       "    .dataframe thead th {\n",
       "        text-align: right;\n",
       "    }\n",
       "</style>\n",
       "<table border=\"1\" class=\"dataframe\">\n",
       "  <thead>\n",
       "    <tr style=\"text-align: right;\">\n",
       "      <th></th>\n",
       "      <th>NU_INSCRICAO</th>\n",
       "      <th>NU_ANO</th>\n",
       "      <th>TP_FAIXA_ETARIA</th>\n",
       "      <th>TP_SEXO</th>\n",
       "      <th>TP_ESTADO_CIVIL</th>\n",
       "      <th>TP_COR_RACA</th>\n",
       "      <th>TP_NACIONALIDADE</th>\n",
       "      <th>TP_ST_CONCLUSAO</th>\n",
       "      <th>TP_ANO_CONCLUIU</th>\n",
       "      <th>TP_ESCOLA</th>\n",
       "      <th>...</th>\n",
       "      <th>Q016</th>\n",
       "      <th>Q017</th>\n",
       "      <th>Q018</th>\n",
       "      <th>Q019</th>\n",
       "      <th>Q020</th>\n",
       "      <th>Q021</th>\n",
       "      <th>Q022</th>\n",
       "      <th>Q023</th>\n",
       "      <th>Q024</th>\n",
       "      <th>Q025</th>\n",
       "    </tr>\n",
       "  </thead>\n",
       "  <tbody>\n",
       "    <tr>\n",
       "      <th>0</th>\n",
       "      <td>210053865474</td>\n",
       "      <td>2021</td>\n",
       "      <td>5</td>\n",
       "      <td>F</td>\n",
       "      <td>1</td>\n",
       "      <td>1</td>\n",
       "      <td>1</td>\n",
       "      <td>1</td>\n",
       "      <td>3</td>\n",
       "      <td>1</td>\n",
       "      <td>...</td>\n",
       "      <td>A</td>\n",
       "      <td>A</td>\n",
       "      <td>A</td>\n",
       "      <td>B</td>\n",
       "      <td>A</td>\n",
       "      <td>A</td>\n",
       "      <td>B</td>\n",
       "      <td>A</td>\n",
       "      <td>B</td>\n",
       "      <td>B</td>\n",
       "    </tr>\n",
       "    <tr>\n",
       "      <th>1</th>\n",
       "      <td>210052384164</td>\n",
       "      <td>2021</td>\n",
       "      <td>12</td>\n",
       "      <td>M</td>\n",
       "      <td>1</td>\n",
       "      <td>1</td>\n",
       "      <td>1</td>\n",
       "      <td>1</td>\n",
       "      <td>11</td>\n",
       "      <td>1</td>\n",
       "      <td>...</td>\n",
       "      <td>A</td>\n",
       "      <td>A</td>\n",
       "      <td>A</td>\n",
       "      <td>B</td>\n",
       "      <td>A</td>\n",
       "      <td>A</td>\n",
       "      <td>C</td>\n",
       "      <td>A</td>\n",
       "      <td>A</td>\n",
       "      <td>A</td>\n",
       "    </tr>\n",
       "    <tr>\n",
       "      <th>2</th>\n",
       "      <td>210052589243</td>\n",
       "      <td>2021</td>\n",
       "      <td>13</td>\n",
       "      <td>F</td>\n",
       "      <td>3</td>\n",
       "      <td>1</td>\n",
       "      <td>1</td>\n",
       "      <td>1</td>\n",
       "      <td>15</td>\n",
       "      <td>1</td>\n",
       "      <td>...</td>\n",
       "      <td>B</td>\n",
       "      <td>A</td>\n",
       "      <td>A</td>\n",
       "      <td>B</td>\n",
       "      <td>A</td>\n",
       "      <td>A</td>\n",
       "      <td>C</td>\n",
       "      <td>B</td>\n",
       "      <td>B</td>\n",
       "      <td>B</td>\n",
       "    </tr>\n",
       "    <tr>\n",
       "      <th>3</th>\n",
       "      <td>210052128335</td>\n",
       "      <td>2021</td>\n",
       "      <td>3</td>\n",
       "      <td>M</td>\n",
       "      <td>1</td>\n",
       "      <td>3</td>\n",
       "      <td>1</td>\n",
       "      <td>2</td>\n",
       "      <td>0</td>\n",
       "      <td>2</td>\n",
       "      <td>...</td>\n",
       "      <td>A</td>\n",
       "      <td>A</td>\n",
       "      <td>A</td>\n",
       "      <td>B</td>\n",
       "      <td>A</td>\n",
       "      <td>A</td>\n",
       "      <td>B</td>\n",
       "      <td>A</td>\n",
       "      <td>B</td>\n",
       "      <td>B</td>\n",
       "    </tr>\n",
       "    <tr>\n",
       "      <th>4</th>\n",
       "      <td>210051353021</td>\n",
       "      <td>2021</td>\n",
       "      <td>2</td>\n",
       "      <td>F</td>\n",
       "      <td>1</td>\n",
       "      <td>3</td>\n",
       "      <td>1</td>\n",
       "      <td>2</td>\n",
       "      <td>0</td>\n",
       "      <td>2</td>\n",
       "      <td>...</td>\n",
       "      <td>B</td>\n",
       "      <td>A</td>\n",
       "      <td>A</td>\n",
       "      <td>B</td>\n",
       "      <td>A</td>\n",
       "      <td>B</td>\n",
       "      <td>E</td>\n",
       "      <td>A</td>\n",
       "      <td>B</td>\n",
       "      <td>B</td>\n",
       "    </tr>\n",
       "    <tr>\n",
       "      <th>...</th>\n",
       "      <td>...</td>\n",
       "      <td>...</td>\n",
       "      <td>...</td>\n",
       "      <td>...</td>\n",
       "      <td>...</td>\n",
       "      <td>...</td>\n",
       "      <td>...</td>\n",
       "      <td>...</td>\n",
       "      <td>...</td>\n",
       "      <td>...</td>\n",
       "      <td>...</td>\n",
       "      <td>...</td>\n",
       "      <td>...</td>\n",
       "      <td>...</td>\n",
       "      <td>...</td>\n",
       "      <td>...</td>\n",
       "      <td>...</td>\n",
       "      <td>...</td>\n",
       "      <td>...</td>\n",
       "      <td>...</td>\n",
       "      <td>...</td>\n",
       "    </tr>\n",
       "    <tr>\n",
       "      <th>3389827</th>\n",
       "      <td>210053249138</td>\n",
       "      <td>2021</td>\n",
       "      <td>7</td>\n",
       "      <td>F</td>\n",
       "      <td>1</td>\n",
       "      <td>3</td>\n",
       "      <td>1</td>\n",
       "      <td>1</td>\n",
       "      <td>0</td>\n",
       "      <td>1</td>\n",
       "      <td>...</td>\n",
       "      <td>A</td>\n",
       "      <td>A</td>\n",
       "      <td>A</td>\n",
       "      <td>B</td>\n",
       "      <td>A</td>\n",
       "      <td>A</td>\n",
       "      <td>B</td>\n",
       "      <td>A</td>\n",
       "      <td>A</td>\n",
       "      <td>B</td>\n",
       "    </tr>\n",
       "    <tr>\n",
       "      <th>3389828</th>\n",
       "      <td>210053776013</td>\n",
       "      <td>2021</td>\n",
       "      <td>7</td>\n",
       "      <td>F</td>\n",
       "      <td>1</td>\n",
       "      <td>1</td>\n",
       "      <td>1</td>\n",
       "      <td>1</td>\n",
       "      <td>5</td>\n",
       "      <td>1</td>\n",
       "      <td>...</td>\n",
       "      <td>B</td>\n",
       "      <td>A</td>\n",
       "      <td>B</td>\n",
       "      <td>C</td>\n",
       "      <td>A</td>\n",
       "      <td>A</td>\n",
       "      <td>E</td>\n",
       "      <td>B</td>\n",
       "      <td>B</td>\n",
       "      <td>B</td>\n",
       "    </tr>\n",
       "    <tr>\n",
       "      <th>3389829</th>\n",
       "      <td>210052441508</td>\n",
       "      <td>2021</td>\n",
       "      <td>13</td>\n",
       "      <td>F</td>\n",
       "      <td>1</td>\n",
       "      <td>3</td>\n",
       "      <td>1</td>\n",
       "      <td>1</td>\n",
       "      <td>15</td>\n",
       "      <td>1</td>\n",
       "      <td>...</td>\n",
       "      <td>B</td>\n",
       "      <td>A</td>\n",
       "      <td>A</td>\n",
       "      <td>A</td>\n",
       "      <td>A</td>\n",
       "      <td>A</td>\n",
       "      <td>B</td>\n",
       "      <td>A</td>\n",
       "      <td>B</td>\n",
       "      <td>B</td>\n",
       "    </tr>\n",
       "    <tr>\n",
       "      <th>3389830</th>\n",
       "      <td>210051139675</td>\n",
       "      <td>2021</td>\n",
       "      <td>7</td>\n",
       "      <td>F</td>\n",
       "      <td>1</td>\n",
       "      <td>1</td>\n",
       "      <td>1</td>\n",
       "      <td>1</td>\n",
       "      <td>4</td>\n",
       "      <td>1</td>\n",
       "      <td>...</td>\n",
       "      <td>B</td>\n",
       "      <td>A</td>\n",
       "      <td>B</td>\n",
       "      <td>B</td>\n",
       "      <td>A</td>\n",
       "      <td>B</td>\n",
       "      <td>E</td>\n",
       "      <td>A</td>\n",
       "      <td>C</td>\n",
       "      <td>B</td>\n",
       "    </tr>\n",
       "    <tr>\n",
       "      <th>3389831</th>\n",
       "      <td>210052410399</td>\n",
       "      <td>2021</td>\n",
       "      <td>12</td>\n",
       "      <td>F</td>\n",
       "      <td>2</td>\n",
       "      <td>3</td>\n",
       "      <td>1</td>\n",
       "      <td>1</td>\n",
       "      <td>15</td>\n",
       "      <td>1</td>\n",
       "      <td>...</td>\n",
       "      <td>NaN</td>\n",
       "      <td>NaN</td>\n",
       "      <td>NaN</td>\n",
       "      <td>NaN</td>\n",
       "      <td>NaN</td>\n",
       "      <td>NaN</td>\n",
       "      <td>NaN</td>\n",
       "      <td>NaN</td>\n",
       "      <td>NaN</td>\n",
       "      <td>NaN</td>\n",
       "    </tr>\n",
       "  </tbody>\n",
       "</table>\n",
       "<p>3389832 rows × 76 columns</p>\n",
       "</div>"
      ],
      "text/plain": [
       "         NU_INSCRICAO  NU_ANO  TP_FAIXA_ETARIA TP_SEXO  TP_ESTADO_CIVIL  \\\n",
       "0        210053865474    2021                5       F                1   \n",
       "1        210052384164    2021               12       M                1   \n",
       "2        210052589243    2021               13       F                3   \n",
       "3        210052128335    2021                3       M                1   \n",
       "4        210051353021    2021                2       F                1   \n",
       "...               ...     ...              ...     ...              ...   \n",
       "3389827  210053249138    2021                7       F                1   \n",
       "3389828  210053776013    2021                7       F                1   \n",
       "3389829  210052441508    2021               13       F                1   \n",
       "3389830  210051139675    2021                7       F                1   \n",
       "3389831  210052410399    2021               12       F                2   \n",
       "\n",
       "         TP_COR_RACA  TP_NACIONALIDADE  TP_ST_CONCLUSAO  TP_ANO_CONCLUIU  \\\n",
       "0                  1                 1                1                3   \n",
       "1                  1                 1                1               11   \n",
       "2                  1                 1                1               15   \n",
       "3                  3                 1                2                0   \n",
       "4                  3                 1                2                0   \n",
       "...              ...               ...              ...              ...   \n",
       "3389827            3                 1                1                0   \n",
       "3389828            1                 1                1                5   \n",
       "3389829            3                 1                1               15   \n",
       "3389830            1                 1                1                4   \n",
       "3389831            3                 1                1               15   \n",
       "\n",
       "         TP_ESCOLA  ...  Q016  Q017  Q018 Q019  Q020 Q021  Q022  Q023  Q024  \\\n",
       "0                1  ...     A     A     A    B     A    A     B     A     B   \n",
       "1                1  ...     A     A     A    B     A    A     C     A     A   \n",
       "2                1  ...     B     A     A    B     A    A     C     B     B   \n",
       "3                2  ...     A     A     A    B     A    A     B     A     B   \n",
       "4                2  ...     B     A     A    B     A    B     E     A     B   \n",
       "...            ...  ...   ...   ...   ...  ...   ...  ...   ...   ...   ...   \n",
       "3389827          1  ...     A     A     A    B     A    A     B     A     A   \n",
       "3389828          1  ...     B     A     B    C     A    A     E     B     B   \n",
       "3389829          1  ...     B     A     A    A     A    A     B     A     B   \n",
       "3389830          1  ...     B     A     B    B     A    B     E     A     C   \n",
       "3389831          1  ...   NaN   NaN   NaN  NaN   NaN  NaN   NaN   NaN   NaN   \n",
       "\n",
       "         Q025  \n",
       "0           B  \n",
       "1           A  \n",
       "2           B  \n",
       "3           B  \n",
       "4           B  \n",
       "...       ...  \n",
       "3389827     B  \n",
       "3389828     B  \n",
       "3389829     B  \n",
       "3389830     B  \n",
       "3389831   NaN  \n",
       "\n",
       "[3389832 rows x 76 columns]"
      ]
     },
     "metadata": {},
     "output_type": "display_data"
    }
   ],
   "source": [
    "display(df)"
   ]
  },
  {
   "cell_type": "code",
   "execution_count": 4,
   "id": "34f24c00",
   "metadata": {},
   "outputs": [
    {
     "name": "stdout",
     "output_type": "stream",
     "text": [
      "<class 'pandas.core.frame.DataFrame'>\n",
      "RangeIndex: 3389832 entries, 0 to 3389831\n",
      "Data columns (total 76 columns):\n",
      " #   Column                  Dtype  \n",
      "---  ------                  -----  \n",
      " 0   NU_INSCRICAO            int64  \n",
      " 1   NU_ANO                  int64  \n",
      " 2   TP_FAIXA_ETARIA         int64  \n",
      " 3   TP_SEXO                 object \n",
      " 4   TP_ESTADO_CIVIL         int64  \n",
      " 5   TP_COR_RACA             int64  \n",
      " 6   TP_NACIONALIDADE        int64  \n",
      " 7   TP_ST_CONCLUSAO         int64  \n",
      " 8   TP_ANO_CONCLUIU         int64  \n",
      " 9   TP_ESCOLA               int64  \n",
      " 10  TP_ENSINO               float64\n",
      " 11  IN_TREINEIRO            int64  \n",
      " 12  CO_MUNICIPIO_ESC        float64\n",
      " 13  NO_MUNICIPIO_ESC        object \n",
      " 14  CO_UF_ESC               float64\n",
      " 15  SG_UF_ESC               object \n",
      " 16  TP_DEPENDENCIA_ADM_ESC  float64\n",
      " 17  TP_LOCALIZACAO_ESC      float64\n",
      " 18  TP_SIT_FUNC_ESC         float64\n",
      " 19  CO_MUNICIPIO_PROVA      int64  \n",
      " 20  NO_MUNICIPIO_PROVA      object \n",
      " 21  CO_UF_PROVA             int64  \n",
      " 22  SG_UF_PROVA             object \n",
      " 23  TP_PRESENCA_CN          int64  \n",
      " 24  TP_PRESENCA_CH          int64  \n",
      " 25  TP_PRESENCA_LC          int64  \n",
      " 26  TP_PRESENCA_MT          int64  \n",
      " 27  CO_PROVA_CN             float64\n",
      " 28  CO_PROVA_CH             float64\n",
      " 29  CO_PROVA_LC             float64\n",
      " 30  CO_PROVA_MT             float64\n",
      " 31  NU_NOTA_CN              float64\n",
      " 32  NU_NOTA_CH              float64\n",
      " 33  NU_NOTA_LC              float64\n",
      " 34  NU_NOTA_MT              float64\n",
      " 35  TX_RESPOSTAS_CN         object \n",
      " 36  TX_RESPOSTAS_CH         object \n",
      " 37  TX_RESPOSTAS_LC         object \n",
      " 38  TX_RESPOSTAS_MT         object \n",
      " 39  TP_LINGUA               int64  \n",
      " 40  TX_GABARITO_CN          object \n",
      " 41  TX_GABARITO_CH          object \n",
      " 42  TX_GABARITO_LC          object \n",
      " 43  TX_GABARITO_MT          object \n",
      " 44  TP_STATUS_REDACAO       float64\n",
      " 45  NU_NOTA_COMP1           float64\n",
      " 46  NU_NOTA_COMP2           float64\n",
      " 47  NU_NOTA_COMP3           float64\n",
      " 48  NU_NOTA_COMP4           float64\n",
      " 49  NU_NOTA_COMP5           float64\n",
      " 50  NU_NOTA_REDACAO         float64\n",
      " 51  Q001                    object \n",
      " 52  Q002                    object \n",
      " 53  Q003                    object \n",
      " 54  Q004                    object \n",
      " 55  Q005                    float64\n",
      " 56  Q006                    object \n",
      " 57  Q007                    object \n",
      " 58  Q008                    object \n",
      " 59  Q009                    object \n",
      " 60  Q010                    object \n",
      " 61  Q011                    object \n",
      " 62  Q012                    object \n",
      " 63  Q013                    object \n",
      " 64  Q014                    object \n",
      " 65  Q015                    object \n",
      " 66  Q016                    object \n",
      " 67  Q017                    object \n",
      " 68  Q018                    object \n",
      " 69  Q019                    object \n",
      " 70  Q020                    object \n",
      " 71  Q021                    object \n",
      " 72  Q022                    object \n",
      " 73  Q023                    object \n",
      " 74  Q024                    object \n",
      " 75  Q025                    object \n",
      "dtypes: float64(22), int64(17), object(37)\n",
      "memory usage: 1.9+ GB\n"
     ]
    }
   ],
   "source": [
    "df.info()"
   ]
  },
  {
   "cell_type": "code",
   "execution_count": 5,
   "id": "54a78132",
   "metadata": {},
   "outputs": [
    {
     "data": {
      "text/html": [
       "<div>\n",
       "<style scoped>\n",
       "    .dataframe tbody tr th:only-of-type {\n",
       "        vertical-align: middle;\n",
       "    }\n",
       "\n",
       "    .dataframe tbody tr th {\n",
       "        vertical-align: top;\n",
       "    }\n",
       "\n",
       "    .dataframe thead th {\n",
       "        text-align: right;\n",
       "    }\n",
       "</style>\n",
       "<table border=\"1\" class=\"dataframe\">\n",
       "  <thead>\n",
       "    <tr style=\"text-align: right;\">\n",
       "      <th></th>\n",
       "      <th>NU_INSCRICAO</th>\n",
       "      <th>NU_ANO</th>\n",
       "      <th>TP_FAIXA_ETARIA</th>\n",
       "      <th>TP_ESTADO_CIVIL</th>\n",
       "      <th>TP_COR_RACA</th>\n",
       "      <th>TP_NACIONALIDADE</th>\n",
       "      <th>TP_ST_CONCLUSAO</th>\n",
       "      <th>TP_ANO_CONCLUIU</th>\n",
       "      <th>TP_ESCOLA</th>\n",
       "      <th>TP_ENSINO</th>\n",
       "      <th>...</th>\n",
       "      <th>NU_NOTA_MT</th>\n",
       "      <th>TP_LINGUA</th>\n",
       "      <th>TP_STATUS_REDACAO</th>\n",
       "      <th>NU_NOTA_COMP1</th>\n",
       "      <th>NU_NOTA_COMP2</th>\n",
       "      <th>NU_NOTA_COMP3</th>\n",
       "      <th>NU_NOTA_COMP4</th>\n",
       "      <th>NU_NOTA_COMP5</th>\n",
       "      <th>NU_NOTA_REDACAO</th>\n",
       "      <th>Q005</th>\n",
       "    </tr>\n",
       "  </thead>\n",
       "  <tbody>\n",
       "    <tr>\n",
       "      <th>count</th>\n",
       "      <td>3.389832e+06</td>\n",
       "      <td>3389832.0</td>\n",
       "      <td>3.389832e+06</td>\n",
       "      <td>3.389832e+06</td>\n",
       "      <td>3.389832e+06</td>\n",
       "      <td>3.389832e+06</td>\n",
       "      <td>3.389832e+06</td>\n",
       "      <td>3.389832e+06</td>\n",
       "      <td>3.389832e+06</td>\n",
       "      <td>1.096828e+06</td>\n",
       "      <td>...</td>\n",
       "      <td>2.245844e+06</td>\n",
       "      <td>3.389832e+06</td>\n",
       "      <td>2.378379e+06</td>\n",
       "      <td>2.378379e+06</td>\n",
       "      <td>2.378379e+06</td>\n",
       "      <td>2.378379e+06</td>\n",
       "      <td>2.378379e+06</td>\n",
       "      <td>2.378379e+06</td>\n",
       "      <td>2.378379e+06</td>\n",
       "      <td>3.389830e+06</td>\n",
       "    </tr>\n",
       "    <tr>\n",
       "      <th>mean</th>\n",
       "      <td>2.100527e+11</td>\n",
       "      <td>2021.0</td>\n",
       "      <td>5.306013e+00</td>\n",
       "      <td>1.052073e+00</td>\n",
       "      <td>2.043491e+00</td>\n",
       "      <td>1.027106e+00</td>\n",
       "      <td>1.608430e+00</td>\n",
       "      <td>2.581980e+00</td>\n",
       "      <td>1.396214e+00</td>\n",
       "      <td>1.006295e+00</td>\n",
       "      <td>...</td>\n",
       "      <td>5.350802e+02</td>\n",
       "      <td>4.704640e-01</td>\n",
       "      <td>1.140684e+00</td>\n",
       "      <td>1.192657e+02</td>\n",
       "      <td>1.380269e+02</td>\n",
       "      <td>1.153117e+02</td>\n",
       "      <td>1.281853e+02</td>\n",
       "      <td>1.127109e+02</td>\n",
       "      <td>6.135005e+02</td>\n",
       "      <td>3.739557e+00</td>\n",
       "    </tr>\n",
       "    <tr>\n",
       "      <th>std</th>\n",
       "      <td>9.962403e+05</td>\n",
       "      <td>0.0</td>\n",
       "      <td>3.902871e+00</td>\n",
       "      <td>4.129414e-01</td>\n",
       "      <td>1.022561e+00</td>\n",
       "      <td>2.049293e-01</td>\n",
       "      <td>7.198306e-01</td>\n",
       "      <td>4.278731e+00</td>\n",
       "      <td>5.938455e-01</td>\n",
       "      <td>7.909361e-02</td>\n",
       "      <td>...</td>\n",
       "      <td>1.106267e+02</td>\n",
       "      <td>4.991269e-01</td>\n",
       "      <td>7.910804e-01</td>\n",
       "      <td>3.391962e+01</td>\n",
       "      <td>4.563224e+01</td>\n",
       "      <td>3.634138e+01</td>\n",
       "      <td>3.883252e+01</td>\n",
       "      <td>6.005667e+01</td>\n",
       "      <td>1.907142e+02</td>\n",
       "      <td>1.378942e+00</td>\n",
       "    </tr>\n",
       "    <tr>\n",
       "      <th>min</th>\n",
       "      <td>2.100510e+11</td>\n",
       "      <td>2021.0</td>\n",
       "      <td>1.000000e+00</td>\n",
       "      <td>0.000000e+00</td>\n",
       "      <td>0.000000e+00</td>\n",
       "      <td>0.000000e+00</td>\n",
       "      <td>1.000000e+00</td>\n",
       "      <td>0.000000e+00</td>\n",
       "      <td>1.000000e+00</td>\n",
       "      <td>1.000000e+00</td>\n",
       "      <td>...</td>\n",
       "      <td>0.000000e+00</td>\n",
       "      <td>0.000000e+00</td>\n",
       "      <td>1.000000e+00</td>\n",
       "      <td>0.000000e+00</td>\n",
       "      <td>0.000000e+00</td>\n",
       "      <td>0.000000e+00</td>\n",
       "      <td>0.000000e+00</td>\n",
       "      <td>0.000000e+00</td>\n",
       "      <td>0.000000e+00</td>\n",
       "      <td>1.000000e+00</td>\n",
       "    </tr>\n",
       "    <tr>\n",
       "      <th>25%</th>\n",
       "      <td>2.100519e+11</td>\n",
       "      <td>2021.0</td>\n",
       "      <td>2.000000e+00</td>\n",
       "      <td>1.000000e+00</td>\n",
       "      <td>1.000000e+00</td>\n",
       "      <td>1.000000e+00</td>\n",
       "      <td>1.000000e+00</td>\n",
       "      <td>0.000000e+00</td>\n",
       "      <td>1.000000e+00</td>\n",
       "      <td>1.000000e+00</td>\n",
       "      <td>...</td>\n",
       "      <td>4.447000e+02</td>\n",
       "      <td>0.000000e+00</td>\n",
       "      <td>1.000000e+00</td>\n",
       "      <td>1.000000e+02</td>\n",
       "      <td>1.200000e+02</td>\n",
       "      <td>1.000000e+02</td>\n",
       "      <td>1.200000e+02</td>\n",
       "      <td>8.000000e+01</td>\n",
       "      <td>5.200000e+02</td>\n",
       "      <td>3.000000e+00</td>\n",
       "    </tr>\n",
       "    <tr>\n",
       "      <th>50%</th>\n",
       "      <td>2.100527e+11</td>\n",
       "      <td>2021.0</td>\n",
       "      <td>4.000000e+00</td>\n",
       "      <td>1.000000e+00</td>\n",
       "      <td>2.000000e+00</td>\n",
       "      <td>1.000000e+00</td>\n",
       "      <td>1.000000e+00</td>\n",
       "      <td>0.000000e+00</td>\n",
       "      <td>1.000000e+00</td>\n",
       "      <td>1.000000e+00</td>\n",
       "      <td>...</td>\n",
       "      <td>5.154000e+02</td>\n",
       "      <td>0.000000e+00</td>\n",
       "      <td>1.000000e+00</td>\n",
       "      <td>1.200000e+02</td>\n",
       "      <td>1.200000e+02</td>\n",
       "      <td>1.200000e+02</td>\n",
       "      <td>1.200000e+02</td>\n",
       "      <td>1.200000e+02</td>\n",
       "      <td>6.000000e+02</td>\n",
       "      <td>4.000000e+00</td>\n",
       "    </tr>\n",
       "    <tr>\n",
       "      <th>75%</th>\n",
       "      <td>2.100536e+11</td>\n",
       "      <td>2021.0</td>\n",
       "      <td>7.000000e+00</td>\n",
       "      <td>1.000000e+00</td>\n",
       "      <td>3.000000e+00</td>\n",
       "      <td>1.000000e+00</td>\n",
       "      <td>2.000000e+00</td>\n",
       "      <td>3.000000e+00</td>\n",
       "      <td>2.000000e+00</td>\n",
       "      <td>1.000000e+00</td>\n",
       "      <td>...</td>\n",
       "      <td>6.139000e+02</td>\n",
       "      <td>1.000000e+00</td>\n",
       "      <td>1.000000e+00</td>\n",
       "      <td>1.400000e+02</td>\n",
       "      <td>1.800000e+02</td>\n",
       "      <td>1.400000e+02</td>\n",
       "      <td>1.600000e+02</td>\n",
       "      <td>1.600000e+02</td>\n",
       "      <td>7.400000e+02</td>\n",
       "      <td>4.000000e+00</td>\n",
       "    </tr>\n",
       "    <tr>\n",
       "      <th>max</th>\n",
       "      <td>2.100545e+11</td>\n",
       "      <td>2021.0</td>\n",
       "      <td>2.000000e+01</td>\n",
       "      <td>4.000000e+00</td>\n",
       "      <td>6.000000e+00</td>\n",
       "      <td>4.000000e+00</td>\n",
       "      <td>4.000000e+00</td>\n",
       "      <td>1.500000e+01</td>\n",
       "      <td>3.000000e+00</td>\n",
       "      <td>2.000000e+00</td>\n",
       "      <td>...</td>\n",
       "      <td>9.531000e+02</td>\n",
       "      <td>1.000000e+00</td>\n",
       "      <td>9.000000e+00</td>\n",
       "      <td>2.000000e+02</td>\n",
       "      <td>2.000000e+02</td>\n",
       "      <td>2.000000e+02</td>\n",
       "      <td>2.000000e+02</td>\n",
       "      <td>2.000000e+02</td>\n",
       "      <td>1.000000e+03</td>\n",
       "      <td>2.000000e+01</td>\n",
       "    </tr>\n",
       "  </tbody>\n",
       "</table>\n",
       "<p>8 rows × 39 columns</p>\n",
       "</div>"
      ],
      "text/plain": [
       "       NU_INSCRICAO     NU_ANO  TP_FAIXA_ETARIA  TP_ESTADO_CIVIL  \\\n",
       "count  3.389832e+06  3389832.0     3.389832e+06     3.389832e+06   \n",
       "mean   2.100527e+11     2021.0     5.306013e+00     1.052073e+00   \n",
       "std    9.962403e+05        0.0     3.902871e+00     4.129414e-01   \n",
       "min    2.100510e+11     2021.0     1.000000e+00     0.000000e+00   \n",
       "25%    2.100519e+11     2021.0     2.000000e+00     1.000000e+00   \n",
       "50%    2.100527e+11     2021.0     4.000000e+00     1.000000e+00   \n",
       "75%    2.100536e+11     2021.0     7.000000e+00     1.000000e+00   \n",
       "max    2.100545e+11     2021.0     2.000000e+01     4.000000e+00   \n",
       "\n",
       "        TP_COR_RACA  TP_NACIONALIDADE  TP_ST_CONCLUSAO  TP_ANO_CONCLUIU  \\\n",
       "count  3.389832e+06      3.389832e+06     3.389832e+06     3.389832e+06   \n",
       "mean   2.043491e+00      1.027106e+00     1.608430e+00     2.581980e+00   \n",
       "std    1.022561e+00      2.049293e-01     7.198306e-01     4.278731e+00   \n",
       "min    0.000000e+00      0.000000e+00     1.000000e+00     0.000000e+00   \n",
       "25%    1.000000e+00      1.000000e+00     1.000000e+00     0.000000e+00   \n",
       "50%    2.000000e+00      1.000000e+00     1.000000e+00     0.000000e+00   \n",
       "75%    3.000000e+00      1.000000e+00     2.000000e+00     3.000000e+00   \n",
       "max    6.000000e+00      4.000000e+00     4.000000e+00     1.500000e+01   \n",
       "\n",
       "          TP_ESCOLA     TP_ENSINO  ...    NU_NOTA_MT     TP_LINGUA  \\\n",
       "count  3.389832e+06  1.096828e+06  ...  2.245844e+06  3.389832e+06   \n",
       "mean   1.396214e+00  1.006295e+00  ...  5.350802e+02  4.704640e-01   \n",
       "std    5.938455e-01  7.909361e-02  ...  1.106267e+02  4.991269e-01   \n",
       "min    1.000000e+00  1.000000e+00  ...  0.000000e+00  0.000000e+00   \n",
       "25%    1.000000e+00  1.000000e+00  ...  4.447000e+02  0.000000e+00   \n",
       "50%    1.000000e+00  1.000000e+00  ...  5.154000e+02  0.000000e+00   \n",
       "75%    2.000000e+00  1.000000e+00  ...  6.139000e+02  1.000000e+00   \n",
       "max    3.000000e+00  2.000000e+00  ...  9.531000e+02  1.000000e+00   \n",
       "\n",
       "       TP_STATUS_REDACAO  NU_NOTA_COMP1  NU_NOTA_COMP2  NU_NOTA_COMP3  \\\n",
       "count       2.378379e+06   2.378379e+06   2.378379e+06   2.378379e+06   \n",
       "mean        1.140684e+00   1.192657e+02   1.380269e+02   1.153117e+02   \n",
       "std         7.910804e-01   3.391962e+01   4.563224e+01   3.634138e+01   \n",
       "min         1.000000e+00   0.000000e+00   0.000000e+00   0.000000e+00   \n",
       "25%         1.000000e+00   1.000000e+02   1.200000e+02   1.000000e+02   \n",
       "50%         1.000000e+00   1.200000e+02   1.200000e+02   1.200000e+02   \n",
       "75%         1.000000e+00   1.400000e+02   1.800000e+02   1.400000e+02   \n",
       "max         9.000000e+00   2.000000e+02   2.000000e+02   2.000000e+02   \n",
       "\n",
       "       NU_NOTA_COMP4  NU_NOTA_COMP5  NU_NOTA_REDACAO          Q005  \n",
       "count   2.378379e+06   2.378379e+06     2.378379e+06  3.389830e+06  \n",
       "mean    1.281853e+02   1.127109e+02     6.135005e+02  3.739557e+00  \n",
       "std     3.883252e+01   6.005667e+01     1.907142e+02  1.378942e+00  \n",
       "min     0.000000e+00   0.000000e+00     0.000000e+00  1.000000e+00  \n",
       "25%     1.200000e+02   8.000000e+01     5.200000e+02  3.000000e+00  \n",
       "50%     1.200000e+02   1.200000e+02     6.000000e+02  4.000000e+00  \n",
       "75%     1.600000e+02   1.600000e+02     7.400000e+02  4.000000e+00  \n",
       "max     2.000000e+02   2.000000e+02     1.000000e+03  2.000000e+01  \n",
       "\n",
       "[8 rows x 39 columns]"
      ]
     },
     "execution_count": 5,
     "metadata": {},
     "output_type": "execute_result"
    }
   ],
   "source": [
    "df.describe()"
   ]
  },
  {
   "cell_type": "code",
   "execution_count": null,
   "id": "11c09368",
   "metadata": {},
   "outputs": [],
   "source": []
  },
  {
   "cell_type": "code",
   "execution_count": null,
   "id": "faa0d774",
   "metadata": {},
   "outputs": [],
   "source": []
  },
  {
   "cell_type": "code",
   "execution_count": null,
   "id": "41664efc",
   "metadata": {},
   "outputs": [],
   "source": []
  },
  {
   "cell_type": "code",
   "execution_count": 86,
   "id": "87a54e24",
   "metadata": {},
   "outputs": [
    {
     "name": "stdout",
     "output_type": "stream",
     "text": [
      "1     8230\n",
      "2     6838\n",
      "3     6167\n",
      "4     5172\n",
      "7     3588\n",
      "9     1845\n",
      "22     913\n",
      "Name: StoreID, dtype: int64\n"
     ]
    }
   ],
   "source": [
    "print((df[\"StoreID\"].value_counts()))"
   ]
  },
  {
   "cell_type": "code",
   "execution_count": 49,
   "id": "1de3a5df",
   "metadata": {},
   "outputs": [
    {
     "name": "stdout",
     "output_type": "stream",
     "text": [
      "002ec297b1b00fb9dde7ee6ac24b67713    966\n",
      "002d4ea7c04739c130bb74d7e7cd16943    963\n",
      "001c5d71ac6ad696d22315953758fa043    944\n",
      "0011c512eb256aa0dbbb544d8dffcf6e3    940\n",
      "0030026a6ddb3b2d1d4bc225b4b4c4da3    939\n",
      "                                    ... \n",
      "00088930e925c41fd95ebfe695fd26552    205\n",
      "00210e41887c2a8ef9f791ebc780cc362    204\n",
      "002ec297b1b00fb9dde7ee6ac24b67711    202\n",
      "002552c0663708129c0019cc97552d7d2    200\n",
      "001b237c0e9bb435f2e54071129237e92    197\n",
      "Name: ProductID, Length: 73, dtype: int64\n"
     ]
    }
   ],
   "source": [
    "print((df[\"ProductID\"].value_counts()))"
   ]
  },
  {
   "cell_type": "code",
   "execution_count": 50,
   "id": "93873843",
   "metadata": {},
   "outputs": [],
   "source": [
    "df[\"Date\"] = pd.to_datetime(df[\"Date\"], dayfirst=True)"
   ]
  },
  {
   "cell_type": "code",
   "execution_count": 51,
   "id": "f216aeb6",
   "metadata": {},
   "outputs": [],
   "source": [
    "df[\"Year\"] = df[\"Date\"].dt.year #creatins new column with year to take a first look at the sales by diferent time periods."
   ]
  },
  {
   "cell_type": "code",
   "execution_count": 52,
   "id": "190761c8",
   "metadata": {},
   "outputs": [],
   "source": [
    "df[\"Year Month\"] = df[\"Date\"].dt.year*100 + df[\"Date\"].dt.month\n",
    "df[\"value\"] = df[\"UnitPrice\"]*df[\"Quantity\"]"
   ]
  },
  {
   "cell_type": "code",
   "execution_count": 53,
   "id": "92b45e53",
   "metadata": {},
   "outputs": [],
   "source": [
    "df[\"Year Month\"] = df[\"Year Month\"].map(str)"
   ]
  },
  {
   "cell_type": "code",
   "execution_count": 88,
   "id": "aae20b4a",
   "metadata": {},
   "outputs": [
    {
     "name": "stdout",
     "output_type": "stream",
     "text": [
      "      Year Month  value  StoreID\n",
      "0         201812  249.2        4\n",
      "1         201904  162.4        4\n",
      "2         201907  194.6        4\n",
      "3         201804  403.2        1\n",
      "4         201901  406.0        1\n",
      "...          ...    ...      ...\n",
      "32748     201812  218.4        4\n",
      "32749     201812  210.0        4\n",
      "32750     201908  148.4        4\n",
      "32751     201911  436.8        4\n",
      "32752     201807  254.8        4\n",
      "\n",
      "[32753 rows x 3 columns]\n"
     ]
    }
   ],
   "source": [
    "df20 = df[[\"Year Month\", \"value\", \"StoreID\"]]\n",
    "print(df20)"
   ]
  },
  {
   "cell_type": "code",
   "execution_count": 90,
   "id": "f649b853",
   "metadata": {},
   "outputs": [
    {
     "data": {
      "text/plain": [
       "StoreID\n",
       "1     1940307.6\n",
       "2     1588476.4\n",
       "3     1441864.2\n",
       "4     1228606.4\n",
       "7      838198.2\n",
       "9      433844.6\n",
       "22     217596.4\n",
       "Name: value, dtype: float64"
      ]
     },
     "metadata": {},
     "output_type": "display_data"
    }
   ],
   "source": [
    "display(df20.groupby(\"StoreID\")[\"value\"].sum())"
   ]
  },
  {
   "cell_type": "code",
   "execution_count": null,
   "id": "2274da87",
   "metadata": {},
   "outputs": [],
   "source": []
  },
  {
   "cell_type": "code",
   "execution_count": null,
   "id": "b0c603d0",
   "metadata": {},
   "outputs": [],
   "source": []
  },
  {
   "cell_type": "code",
   "execution_count": 75,
   "id": "979e6324",
   "metadata": {},
   "outputs": [],
   "source": [
    "df2 = df[df[\"ProductID\"] == \"002d4ea7c04739c130bb74d7e7cd16943\"] "
   ]
  },
  {
   "cell_type": "code",
   "execution_count": 77,
   "id": "712ea694",
   "metadata": {},
   "outputs": [
    {
     "data": {
      "text/plain": [
       "Year Month\n",
       "201803     8610.0\n",
       "201804     8400.0\n",
       "201805     7770.0\n",
       "201806    14070.0\n",
       "201807    13230.0\n",
       "201808    14070.0\n",
       "201809    11970.0\n",
       "201810     7140.0\n",
       "201811    12390.0\n",
       "201812    17010.0\n",
       "201901     6300.0\n",
       "201902     4620.0\n",
       "201903     5670.0\n",
       "201904     6510.0\n",
       "201905     7350.0\n",
       "201906    11760.0\n",
       "201907     7980.0\n",
       "201908    13650.0\n",
       "201909     5250.0\n",
       "201910     6300.0\n",
       "201911     5460.0\n",
       "201912    11760.0\n",
       "202001     6510.0\n",
       "Name: value, dtype: float64"
      ]
     },
     "metadata": {},
     "output_type": "display_data"
    }
   ],
   "source": [
    "df6 = df2[[\"ProductID\", \"Year Month\", \"value\"]]\n",
    "display(df6.groupby(\"Year Month\")[\"value\"].sum())"
   ]
  },
  {
   "cell_type": "code",
   "execution_count": 85,
   "id": "aff08198",
   "metadata": {},
   "outputs": [
    {
     "name": "stdout",
     "output_type": "stream",
     "text": [
      "Year Month\n",
      "201901    234277.4\n",
      "201902    187203.8\n",
      "201903    316759.8\n",
      "201904    286636.0\n",
      "201905    314837.6\n",
      "201906    494282.6\n",
      "201907    269731.0\n",
      "201908    495861.8\n",
      "201909    285343.8\n",
      "201910    251095.6\n",
      "201911    276053.4\n",
      "201912    478808.4\n",
      "Name: value, dtype: float64\n"
     ]
    },
    {
     "data": {
      "text/plain": [
       "count        12.000000\n",
       "mean     324240.933333\n",
       "std      105678.209798\n",
       "min      187203.800000\n",
       "25%      265072.150000\n",
       "50%      285989.900000\n",
       "75%      357271.950000\n",
       "max      495861.800000\n",
       "Name: value, dtype: float64"
      ]
     },
     "execution_count": 85,
     "metadata": {},
     "output_type": "execute_result"
    }
   ],
   "source": [
    "df7 = df[[\"ProductID\", \"Year Month\", \"value\"]]\n",
    "\n",
    "df8 = df7.groupby(\"Year Month\")[\"value\"].sum()\n",
    "df9 = df8.iloc[10:22]\n",
    "print(df9)\n",
    "df9.describe()"
   ]
  },
  {
   "cell_type": "code",
   "execution_count": null,
   "id": "2bd4ddc6",
   "metadata": {},
   "outputs": [],
   "source": []
  },
  {
   "cell_type": "code",
   "execution_count": null,
   "id": "752b4780",
   "metadata": {},
   "outputs": [],
   "source": []
  },
  {
   "cell_type": "code",
   "execution_count": null,
   "id": "82dd7f59",
   "metadata": {},
   "outputs": [],
   "source": []
  },
  {
   "cell_type": "code",
   "execution_count": 4,
   "id": "402f410c",
   "metadata": {
    "scrolled": false
   },
   "outputs": [
    {
     "name": "stdout",
     "output_type": "stream",
     "text": [
      "1\n",
      "pedraolixo\n",
      "2\n",
      "pedraolixo\n",
      "4\n",
      "pedraolixo\n",
      "5\n",
      "pedraolixo\n",
      "6\n",
      "pedraolixo\n",
      "7\n",
      "pedraolixo\n",
      "8\n",
      "pedraolixo\n",
      "9\n",
      "pedraolixo\n"
     ]
    }
   ],
   "source": [
    "lista = [1,2,4,5,6,7,8,9]\n",
    "\n",
    "if 4 in lista:\n",
    "    for i in lista:\n",
    "        print(i)\n",
    "        print(\"pedraolixo\")"
   ]
  },
  {
   "cell_type": "code",
   "execution_count": null,
   "id": "0c31b98f",
   "metadata": {},
   "outputs": [],
   "source": []
  },
  {
   "cell_type": "code",
   "execution_count": null,
   "id": "5703a03b",
   "metadata": {},
   "outputs": [],
   "source": []
  },
  {
   "cell_type": "code",
   "execution_count": null,
   "id": "44b4188e",
   "metadata": {},
   "outputs": [],
   "source": []
  },
  {
   "cell_type": "code",
   "execution_count": null,
   "id": "a2ab755d",
   "metadata": {},
   "outputs": [],
   "source": []
  },
  {
   "cell_type": "code",
   "execution_count": null,
   "id": "0db7135d",
   "metadata": {},
   "outputs": [],
   "source": []
  },
  {
   "cell_type": "code",
   "execution_count": null,
   "id": "fdbb69e3",
   "metadata": {},
   "outputs": [],
   "source": []
  },
  {
   "cell_type": "code",
   "execution_count": 2,
   "id": "4a8c215b",
   "metadata": {},
   "outputs": [
    {
     "name": "stdout",
     "output_type": "stream",
     "text": [
      "[1, 2]\n"
     ]
    }
   ],
   "source": [
    "l1 = [1]\n",
    "l2 = [2]\n",
    "\n",
    "result = l1 + l2\n",
    "print(result)"
   ]
  },
  {
   "cell_type": "code",
   "execution_count": 3,
   "id": "5d35b3e6",
   "metadata": {
    "scrolled": true
   },
   "outputs": [
    {
     "ename": "AttributeError",
     "evalue": "'Plus' object has no attribute 'test'",
     "output_type": "error",
     "traceback": [
      "\u001b[1;31m---------------------------------------------------------------------------\u001b[0m",
      "\u001b[1;31mAttributeError\u001b[0m                            Traceback (most recent call last)",
      "Input \u001b[1;32mIn [3]\u001b[0m, in \u001b[0;36m<cell line: 19>\u001b[1;34m()\u001b[0m\n\u001b[0;32m     16\u001b[0m     \u001b[38;5;28mprint\u001b[39m(\u001b[38;5;124m\"\u001b[39m\u001b[38;5;124mp.test=\u001b[39m\u001b[38;5;124m\"\u001b[39m, p\u001b[38;5;241m.\u001b[39mtest)\n\u001b[0;32m     17\u001b[0m     \u001b[38;5;28mprint\u001b[39m(\u001b[38;5;124m\"\u001b[39m\u001b[38;5;124mindex=\u001b[39m\u001b[38;5;124m\"\u001b[39m, index)\n\u001b[1;32m---> 19\u001b[0m \u001b[43mmain\u001b[49m\u001b[43m(\u001b[49m\u001b[43m)\u001b[49m\n",
      "Input \u001b[1;32mIn [3]\u001b[0m, in \u001b[0;36mmain\u001b[1;34m()\u001b[0m\n\u001b[0;32m     11\u001b[0m index\u001b[38;5;241m=\u001b[39m\u001b[38;5;241m0\u001b[39m\n\u001b[0;32m     13\u001b[0m \u001b[38;5;28;01mfor\u001b[39;00m i \u001b[38;5;129;01min\u001b[39;00m \u001b[38;5;28mrange\u001b[39m(\u001b[38;5;241m0\u001b[39m,\u001b[38;5;241m25\u001b[39m):\n\u001b[1;32m---> 14\u001b[0m     \u001b[43madd\u001b[49m\u001b[43m(\u001b[49m\u001b[43mp\u001b[49m\u001b[43m,\u001b[49m\u001b[43mindex\u001b[49m\u001b[43m)\u001b[49m\n\u001b[0;32m     16\u001b[0m \u001b[38;5;28mprint\u001b[39m(\u001b[38;5;124m\"\u001b[39m\u001b[38;5;124mp.test=\u001b[39m\u001b[38;5;124m\"\u001b[39m, p\u001b[38;5;241m.\u001b[39mtest)\n\u001b[0;32m     17\u001b[0m \u001b[38;5;28mprint\u001b[39m(\u001b[38;5;124m\"\u001b[39m\u001b[38;5;124mindex=\u001b[39m\u001b[38;5;124m\"\u001b[39m, index)\n",
      "Input \u001b[1;32mIn [3]\u001b[0m, in \u001b[0;36madd\u001b[1;34m(c, k)\u001b[0m\n\u001b[0;32m      1\u001b[0m \u001b[38;5;28;01mdef\u001b[39;00m \u001b[38;5;21madd\u001b[39m(c,k):\n\u001b[1;32m----> 2\u001b[0m     c\u001b[38;5;241m.\u001b[39mtest\u001b[38;5;241m=\u001b[39m\u001b[43mc\u001b[49m\u001b[38;5;241;43m.\u001b[39;49m\u001b[43mtest\u001b[49m\u001b[38;5;241m+\u001b[39m\u001b[38;5;241m1\u001b[39m\n\u001b[0;32m      3\u001b[0m     k\u001b[38;5;241m=\u001b[39mk\u001b[38;5;241m+\u001b[39m\u001b[38;5;241m1\u001b[39m\n",
      "\u001b[1;31mAttributeError\u001b[0m: 'Plus' object has no attribute 'test'"
     ]
    }
   ],
   "source": [
    "def add(c,k):\n",
    "    c.test=c.test+1\n",
    "    k=k+1\n",
    "\n",
    "class Plus:\n",
    "    def ___init__(self):\n",
    "        self.test=0\n",
    "\n",
    "def main():\n",
    "    p=Plus()\n",
    "    index=0b\n",
    "\n",
    "    for i in range(0,25):\n",
    "        add(p,index)\n",
    "    \n",
    "    print(\"p.test=\", p.test)\n",
    "    print(\"index=\", index)\n",
    "    \n",
    "main()\n"
   ]
  },
  {
   "cell_type": "code",
   "execution_count": 4,
   "id": "443bbaac",
   "metadata": {},
   "outputs": [
    {
     "name": "stdout",
     "output_type": "stream",
     "text": [
      "a\n"
     ]
    }
   ],
   "source": [
    "i = \"a\"\n",
    "\n",
    "def welcome(i):\n",
    "    i=i+\", welcome\"\n",
    "    return i\n",
    "\n",
    "welcome(\"developer\")\n",
    "print(i)"
   ]
  },
  {
   "cell_type": "code",
   "execution_count": 10,
   "id": "bdd2b3ed",
   "metadata": {},
   "outputs": [
    {
     "name": "stdout",
     "output_type": "stream",
     "text": [
      "['a']\n"
     ]
    }
   ],
   "source": [
    "a = ['a']\n",
    "\n",
    "b = list(a)\n",
    "print(b)"
   ]
  },
  {
   "cell_type": "code",
   "execution_count": 11,
   "id": "226a210c",
   "metadata": {},
   "outputs": [
    {
     "name": "stdout",
     "output_type": "stream",
     "text": [
      "512 64 512\n"
     ]
    }
   ],
   "source": [
    "print(2**(3**2), (2**3)**2, (2**3)**3)"
   ]
  },
  {
   "cell_type": "code",
   "execution_count": 13,
   "id": "e06f28e3",
   "metadata": {},
   "outputs": [
    {
     "name": "stdout",
     "output_type": "stream",
     "text": [
      "w-l-a\n"
     ]
    }
   ],
   "source": [
    "array = [\"w\", \"l\", \"a\"]\n",
    "print(\"-\".join(array))"
   ]
  },
  {
   "cell_type": "code",
   "execution_count": 14,
   "id": "d7f9ea39",
   "metadata": {},
   "outputs": [
    {
     "ename": "NameError",
     "evalue": "name 'x' is not defined",
     "output_type": "error",
     "traceback": [
      "\u001b[1;31m---------------------------------------------------------------------------\u001b[0m",
      "\u001b[1;31mNameError\u001b[0m                                 Traceback (most recent call last)",
      "Input \u001b[1;32mIn [14]\u001b[0m, in \u001b[0;36m<cell line: 6>\u001b[1;34m()\u001b[0m\n\u001b[0;32m      3\u001b[0m     \u001b[38;5;28;01mreturn\u001b[39;00m x\n\u001b[0;32m      5\u001b[0m func1()\n\u001b[1;32m----> 6\u001b[0m \u001b[38;5;28mprint\u001b[39m(\u001b[43mx\u001b[49m)\n",
      "\u001b[1;31mNameError\u001b[0m: name 'x' is not defined"
     ]
    }
   ],
   "source": [
    "def func1():\n",
    "    x=50\n",
    "    return x\n",
    "\n",
    "func1()\n",
    "print(x)"
   ]
  },
  {
   "cell_type": "code",
   "execution_count": 15,
   "id": "df3bdb51",
   "metadata": {},
   "outputs": [
    {
     "name": "stdout",
     "output_type": "stream",
     "text": [
      "{'p', 'san', 'c', 'a', 'b', 'q'}\n"
     ]
    }
   ],
   "source": [
    "z = set('abc')\n",
    "z.add('san')\n",
    "z.update(set(['p','q']))\n",
    "print(z)"
   ]
  },
  {
   "cell_type": "code",
   "execution_count": 16,
   "id": "9aa06a2b",
   "metadata": {},
   "outputs": [
    {
     "name": "stdout",
     "output_type": "stream",
     "text": [
      "[]\n"
     ]
    }
   ],
   "source": [
    "import re\n",
    "result = re.findall(\"welcome to Turing\", \"Welcome\", 1)\n",
    "print(result)"
   ]
  },
  {
   "cell_type": "code",
   "execution_count": 17,
   "id": "aebf4c91",
   "metadata": {},
   "outputs": [
    {
     "name": "stdout",
     "output_type": "stream",
     "text": [
      "[1, 3, 6, 10]\n"
     ]
    }
   ],
   "source": [
    "a = [1,2,3,4]\n",
    "b=[sum(a[0:x+1]) for x in range(0,len(a))]\n",
    "print(b)"
   ]
  },
  {
   "cell_type": "code",
   "execution_count": 18,
   "id": "6a067910",
   "metadata": {},
   "outputs": [
    {
     "name": "stdout",
     "output_type": "stream",
     "text": [
      "[2, 3, 4]\n"
     ]
    }
   ],
   "source": [
    "data = [1,2,3]\n",
    "def incr(x):\n",
    "    return x+1\n",
    "print(list(map(incr, data)))"
   ]
  },
  {
   "cell_type": "code",
   "execution_count": 19,
   "id": "dd3e628a",
   "metadata": {},
   "outputs": [
    {
     "name": "stdout",
     "output_type": "stream",
     "text": [
      "['t', 'u', 'r', 'i', 'n', 'g']\n"
     ]
    }
   ],
   "source": [
    "print([i.lower() for i in \"TurIng\"])"
   ]
  },
  {
   "cell_type": "code",
   "execution_count": 20,
   "id": "2a7e5de5",
   "metadata": {},
   "outputs": [
    {
     "name": "stdout",
     "output_type": "stream",
     "text": [
      "[0, 1]\n",
      "[3, 2, 1, 0, 1, 4]\n",
      "[0, 1, 0, 1, 4]\n"
     ]
    }
   ],
   "source": [
    "def f(x,l=[]):\n",
    "    for i in range (x):\n",
    "        l.append(i*i)\n",
    "    print(l)\n",
    "    \n",
    "f(2)\n",
    "f(3,[3,2,1])\n",
    "f(3)"
   ]
  },
  {
   "cell_type": "code",
   "execution_count": 21,
   "id": "64384c70",
   "metadata": {},
   "outputs": [
    {
     "name": "stdout",
     "output_type": "stream",
     "text": [
      "welcome to turing\n"
     ]
    }
   ],
   "source": [
    "t='%(a)s %(b)s %(c)s'\n",
    "print(t%dict(a='welcome', b='to', c='turing'))"
   ]
  },
  {
   "cell_type": "code",
   "execution_count": 26,
   "id": "b6fc6ed8",
   "metadata": {
    "scrolled": true
   },
   "outputs": [
    {
     "ename": "TypeError",
     "evalue": "list.append() takes exactly one argument (2 given)",
     "output_type": "error",
     "traceback": [
      "\u001b[1;31m---------------------------------------------------------------------------\u001b[0m",
      "\u001b[1;31mTypeError\u001b[0m                                 Traceback (most recent call last)",
      "Input \u001b[1;32mIn [26]\u001b[0m, in \u001b[0;36m<cell line: 2>\u001b[1;34m()\u001b[0m\n\u001b[0;32m      1\u001b[0m skills \u001b[38;5;241m=\u001b[39m [\u001b[38;5;124m'\u001b[39m\u001b[38;5;124ma\u001b[39m\u001b[38;5;124m'\u001b[39m, \u001b[38;5;124m'\u001b[39m\u001b[38;5;124mb\u001b[39m\u001b[38;5;124m'\u001b[39m, \u001b[38;5;124m'\u001b[39m\u001b[38;5;124mc\u001b[39m\u001b[38;5;124m'\u001b[39m]\n\u001b[1;32m----> 2\u001b[0m \u001b[43mskills\u001b[49m\u001b[38;5;241;43m.\u001b[39;49m\u001b[43mappend\u001b[49m\u001b[43m(\u001b[49m\u001b[38;5;241;43m2\u001b[39;49m\u001b[43m,\u001b[49m\u001b[43m \u001b[49m\u001b[38;5;124;43m'\u001b[39;49m\u001b[38;5;124;43md\u001b[39;49m\u001b[38;5;124;43m'\u001b[39;49m\u001b[43m)\u001b[49m\n\u001b[0;32m      4\u001b[0m \u001b[38;5;28mprint\u001b[39m(skills)\n",
      "\u001b[1;31mTypeError\u001b[0m: list.append() takes exactly one argument (2 given)"
     ]
    }
   ],
   "source": [
    "skills = ['a', 'b', 'c']\n",
    "skills.append(2, 'd')\n",
    "\n",
    "print(skills)"
   ]
  },
  {
   "cell_type": "markdown",
   "id": "9374f016",
   "metadata": {},
   "source": [
    "aaaaaaaaaaaaaaaaaaaa"
   ]
  },
  {
   "cell_type": "code",
   "execution_count": 59,
   "id": "d37f3dea",
   "metadata": {
    "scrolled": true
   },
   "outputs": [
    {
     "name": "stdout",
     "output_type": "stream",
     "text": [
      "0\n",
      "red2\n",
      "1\n",
      "blue5\n",
      "2\n",
      "black4\n",
      "3\n",
      "green1\n",
      "4\n",
      "gold3\n"
     ]
    },
    {
     "data": {
      "text/plain": [
       "(['red', 'blue', 'black', 'green', 'gold'], ['2', '5', '4', '1', '3'])"
      ]
     },
     "execution_count": 59,
     "metadata": {},
     "output_type": "execute_result"
    }
   ],
   "source": [
    "from typing import List\n",
    "\n",
    "string = \"red2 blue5 black4 green1 gold3\"\n",
    "\n",
    "def solution(s: str) -> str:\n",
    "    lista = s.split()\n",
    "    valores = []\n",
    "    for i, cor in enumerate(lista):\n",
    "        #cor[i] = cor[:-2]\n",
    "        print(i)\n",
    "        print(cor)\n",
    "        valores.append(lista[i])\n",
    "        lista[i] = cor[0:-1]\n",
    "        valores[i] = valores[i][-1:]\n",
    "        #dicion = {lista[i]: valores[i] for i in range(len(lista))}\n",
    "    return(lista, valores)\n",
    "\n",
    "solution(string)"
   ]
  },
  {
   "cell_type": "code",
   "execution_count": null,
   "id": "f80b0f86",
   "metadata": {},
   "outputs": [],
   "source": [
    "sorted(s, key=lambda x: int(x[-1]))"
   ]
  }
 ],
 "metadata": {
  "kernelspec": {
   "display_name": "Python 3 (ipykernel)",
   "language": "python",
   "name": "python3"
  },
  "language_info": {
   "codemirror_mode": {
    "name": "ipython",
    "version": 3
   },
   "file_extension": ".py",
   "mimetype": "text/x-python",
   "name": "python",
   "nbconvert_exporter": "python",
   "pygments_lexer": "ipython3",
   "version": "3.9.12"
  }
 },
 "nbformat": 4,
 "nbformat_minor": 5
}
